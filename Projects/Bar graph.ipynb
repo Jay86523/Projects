{
 "cells": [
  {
   "cell_type": "code",
   "execution_count": null,
   "id": "c0aa9c23",
   "metadata": {},
   "outputs": [],
   "source": [
    "import mysql.connector\n",
    "import numpy as np\n",
    "import matplotlib.pyplot as plt\n",
    "\n",
    "\n",
    "student_info={\n",
    "'NAME':['Ravi','Raju','Alex',\n",
    "        'Ron','Geek','Kim'],\n",
    "'MARK':[20,30,40,30,40,50],    \n",
    "}\n",
    "\n",
    " \n",
    "\n",
    "mydb = mysql.connector.connect(host=\"localhost\",\n",
    "                               port= 3307,\n",
    "                               user=\"root\",\n",
    "                               password=\"password\",\n",
    "                               database = student_info)\n",
    "\n",
    "\n",
    "mycursor = mydb.cursor()\n",
    " \n",
    "# Fecthing Data From mysql to my python progame\n",
    "mycursor.execute(\"select Name, Marks from student_marks\")\n",
    "result = mycursor.fetchall\n",
    " \n",
    "Names = []\n",
    "Marks = []\n",
    " \n",
    "for i in mycursor:\n",
    "    Names.append(i[0])\n",
    "    Marks.append(i[1])\n",
    "     \n",
    "print(\"Name of Students = \", Names)\n",
    "print(\"Marks of Students = \", Marks)\n",
    " \n",
    " \n",
    "# Visulizing Data using Matplotlib\n",
    "plt.bar(Names, Marks)\n",
    "plt.ylim(0, 5)\n",
    "plt.xlabel(\"Name of Students\")\n",
    "plt.ylabel(\"Marks of Students\")\n",
    "plt.title(\"Student's Information\")\n",
    "plt.show()"
   ]
  }
 ],
 "metadata": {
  "kernelspec": {
   "display_name": "Python 3 (ipykernel)",
   "language": "python",
   "name": "python3"
  },
  "language_info": {
   "codemirror_mode": {
    "name": "ipython",
    "version": 3
   },
   "file_extension": ".py",
   "mimetype": "text/x-python",
   "name": "python",
   "nbconvert_exporter": "python",
   "pygments_lexer": "ipython3",
   "version": "3.7.13"
  },
  "varInspector": {
   "cols": {
    "lenName": 16,
    "lenType": 16,
    "lenVar": 40
   },
   "kernels_config": {
    "python": {
     "delete_cmd_postfix": "",
     "delete_cmd_prefix": "del ",
     "library": "var_list.py",
     "varRefreshCmd": "print(var_dic_list())"
    },
    "r": {
     "delete_cmd_postfix": ") ",
     "delete_cmd_prefix": "rm(",
     "library": "var_list.r",
     "varRefreshCmd": "cat(var_dic_list()) "
    }
   },
   "types_to_exclude": [
    "module",
    "function",
    "builtin_function_or_method",
    "instance",
    "_Feature"
   ],
   "window_display": false
  }
 },
 "nbformat": 4,
 "nbformat_minor": 5
}
