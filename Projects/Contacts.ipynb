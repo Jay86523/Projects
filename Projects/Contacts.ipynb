{
 "cells": [
  {
   "cell_type": "code",
   "execution_count": null,
   "id": "d8f9d6bc",
   "metadata": {},
   "outputs": [],
   "source": [
    "contact={}\n",
    "\n",
    "def display_contact():\n",
    "    print(\"Name\\t\\tContact Number\")\n",
    "    for key in contact:\n",
    "        print(\"{}\\t\\t{}\".format(key,contact.get(key)))\n",
    "    \n",
    "\n",
    "while True:\n",
    "    \n",
    "    choice = int(input(\" 1.Add new contact \\n 2.Search contact \\n 3.Display contact \\n 4.Edit contact \\n 5.Delete contact \\n 6. Exit \\n Enter your choice\"))\n",
    "    if choice ==1:\n",
    "        name = input(\"enter the contact name\")\n",
    "        phone=input(\"enter the contact number\")\n",
    "        contact[name] = phone\n",
    "    elif choice == 2:\n",
    "        search_name = input(\"enter the contact name\")\n",
    "        if search_name in contact :\n",
    "            print(search_name,\" 's contact number is\",contact[search_name])\n",
    "        else:\n",
    "            print(\"Name is not found in contact book\")\n",
    "    elif choice == 3:\n",
    "        if not contact:\n",
    "            print(\"empty contact book\")\n",
    "        else:\n",
    "            display_contact()\n",
    "    elif choice == 4:\n",
    "        edit_contact = input(\"Enter the contact to be edited\")\n",
    "        if edit_contact in contact:\n",
    "            phone=input (\"Enter mobile number\")\n",
    "            contact[edit_contact]= phone\n",
    "            print(\"contact updated\")\n",
    "            display_contact()\n",
    "        else:\n",
    "            print(\"Name is not found in contact book\")\n",
    "    elif choice == 5:\n",
    "        del_contact = input(\"Enter the contact to be deleted\")\n",
    "        if del_contact in contact:\n",
    "            confirm = input(\"Do you want to delete this contact y/n? \")\n",
    "            if confirm == 'y'or confirm == 'Y':\n",
    "                contact.pop(del_contact)\n",
    "            display_contact()\n",
    "        else:\n",
    "            print(\"Name is not found in contact book\")\n",
    "    else:\n",
    "        break\n",
    "        \n",
    "    "
   ]
  }
 ],
 "metadata": {
  "kernelspec": {
   "display_name": "Python 3 (ipykernel)",
   "language": "python",
   "name": "python3"
  },
  "language_info": {
   "codemirror_mode": {
    "name": "ipython",
    "version": 3
   },
   "file_extension": ".py",
   "mimetype": "text/x-python",
   "name": "python",
   "nbconvert_exporter": "python",
   "pygments_lexer": "ipython3",
   "version": "3.7.13"
  },
  "varInspector": {
   "cols": {
    "lenName": 16,
    "lenType": 16,
    "lenVar": 40
   },
   "kernels_config": {
    "python": {
     "delete_cmd_postfix": "",
     "delete_cmd_prefix": "del ",
     "library": "var_list.py",
     "varRefreshCmd": "print(var_dic_list())"
    },
    "r": {
     "delete_cmd_postfix": ") ",
     "delete_cmd_prefix": "rm(",
     "library": "var_list.r",
     "varRefreshCmd": "cat(var_dic_list()) "
    }
   },
   "types_to_exclude": [
    "module",
    "function",
    "builtin_function_or_method",
    "instance",
    "_Feature"
   ],
   "window_display": false
  }
 },
 "nbformat": 4,
 "nbformat_minor": 5
}
