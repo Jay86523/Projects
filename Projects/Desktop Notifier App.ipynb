{
 "cells": [
  {
   "cell_type": "code",
   "execution_count": null,
   "id": "4bd6bc62",
   "metadata": {},
   "outputs": [],
   "source": [
    "import plyer\n",
    "from plyer import notification\n",
    "\n",
    "title = 'Hello Amazing people!'\n",
    "message= 'Thankyou for reading! Take care!'\n",
    "\n",
    "if __name__==\"__main__\":\n",
    "    notification.notify(\n",
    "        title = \"HEADING HERE\",\n",
    "        message=\" DESCRIPTION HERE\" ,\n",
    "        # displaying time\n",
    "        timeout=2\n",
    "    )\n",
    "        # waiting time\n",
    "        time.sleep(7)\n"
   ]
  },
  {
   "cell_type": "code",
   "execution_count": null,
   "id": "a003a95f",
   "metadata": {},
   "outputs": [],
   "source": [
    "# For Mac\n",
    "import os\n",
    "title = 'Hello Amazing people!'\n",
    "\n",
    "text= 'Thankyou for reading! Take care!'\n",
    "\n",
    "def notify(title, text):\n",
    "    os.system(\"\"\"\n",
    "              osascript -e 'display notification \"{}\" with title \"{}\"'\n",
    "              \"\"\".format(text, title))\n",
    "\n",
    "notify(\"Title\", \"Heres an alert\")"
   ]
  },
  {
   "cell_type": "code",
   "execution_count": null,
   "id": "f9fb66b2",
   "metadata": {},
   "outputs": [],
   "source": []
  }
 ],
 "metadata": {
  "kernelspec": {
   "display_name": "Python 3 (ipykernel)",
   "language": "python",
   "name": "python3"
  },
  "language_info": {
   "codemirror_mode": {
    "name": "ipython",
    "version": 3
   },
   "file_extension": ".py",
   "mimetype": "text/x-python",
   "name": "python",
   "nbconvert_exporter": "python",
   "pygments_lexer": "ipython3",
   "version": "3.7.13"
  },
  "varInspector": {
   "cols": {
    "lenName": 16,
    "lenType": 16,
    "lenVar": 40
   },
   "kernels_config": {
    "python": {
     "delete_cmd_postfix": "",
     "delete_cmd_prefix": "del ",
     "library": "var_list.py",
     "varRefreshCmd": "print(var_dic_list())"
    },
    "r": {
     "delete_cmd_postfix": ") ",
     "delete_cmd_prefix": "rm(",
     "library": "var_list.r",
     "varRefreshCmd": "cat(var_dic_list()) "
    }
   },
   "types_to_exclude": [
    "module",
    "function",
    "builtin_function_or_method",
    "instance",
    "_Feature"
   ],
   "window_display": false
  }
 },
 "nbformat": 4,
 "nbformat_minor": 5
}
