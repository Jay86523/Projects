{
 "cells": [
  {
   "cell_type": "code",
   "execution_count": null,
   "id": "d89141d0",
   "metadata": {},
   "outputs": [],
   "source": [
    "#!pip install requests\n",
    "import requests as req\n",
    "with req.get('https://divvy-tripdata.s3.amazonaws.com/Divvy_Trips_2018_Q4.zip',stream=True)as rq:\n",
    "    withopen(\"my_csv.csv\",\"wb\") as file:\n",
    "        file.write(rq.content)"
   ]
  },
  {
   "cell_type": "code",
   "execution_count": null,
   "id": "34023417",
   "metadata": {},
   "outputs": [],
   "source": [
    "import requests\n",
    "\n",
    "r =.get('https://divvy-tripdata.s3.amazonaws.com/Divvy_Trips_2018_Q4.zip')\n",
    "print(r.text)"
   ]
  },
  {
   "cell_type": "code",
   "execution_count": null,
   "id": "85d2d50d",
   "metadata": {},
   "outputs": [],
   "source": [
    "# importing the requests module\n",
    "import requests\n",
    "print('Downloading started')\n",
    "url = 'https://divvy-tripdata.s3.amazonaws.com/Divvy_Trips_2018_Q4.zip'\n",
    "\n",
    "# Downloading the file by sending the request to the URL\n",
    "req = requests.get(url)\n",
    " \n",
    "# Split URL to get the file name\n",
    "filename = url.split('/')[-1]\n",
    " \n",
    "# Writing the file to the local file system\n",
    "with open(filename,'wb') as output_file:\n",
    "    output_file.write(req.content)\n",
    "print('Downloading Completed')"
   ]
  },
  {
   "cell_type": "code",
   "execution_count": null,
   "id": "9336d493",
   "metadata": {},
   "outputs": [],
   "source": [
    "import requests, zipfile\n",
    "from io import BytesIO\n",
    "print('Downloading started')\n",
    "\n",
    "#Defining the zip file URL\n",
    "url = 'https://www.learningcontainer.com/wp-content/uploads/2020/05/sample-zip-file.zip'\n",
    "\n",
    "# Split URL to get the file name\n",
    "filename = url.split('/')[-1]\n",
    "\n",
    "# Downloading the file by sending the request to the URL\n",
    "req = requests.get(url)\n",
    "print('Downloading Completed')\n",
    "\n",
    "# extracting the zip file contents\n",
    "zipfile= zipfile.ZipFile(BytesIO(req.content))\n",
    "zipfile.extractall('C:/Users/Blades/Downloads/NewFolder')"
   ]
  },
  {
   "cell_type": "code",
   "execution_count": null,
   "id": "c9f0387c",
   "metadata": {},
   "outputs": [],
   "source": [
    "# importing the necessary modules\n",
    "import requests\n",
    "from bs4 import BeautifulSoup\n",
    "\n",
    "# Creating a new file to store the zip file links\n",
    "newfile = open('zipfiles.txt','w')\n",
    "\n",
    "#Set variable for page to be opened and url to be concatenated \n",
    "page =requests.get('https://sample-videos.com/download-sample-zip.php')\n",
    "baseurl= 'https://sample-videos.com/'\n",
    "\n",
    "#Use BeautifulSoup to clean up the page\n",
    "soup = BeautifulSoup(page.content)\n",
    "soup.prettify()\n",
    "\n",
    "#Find all the links on the page that end in .zip and write them into the text file\n",
    "for anchor in soup.findAll('a', href=True):\n",
    "    links = anchor['href']\n",
    "    if links.endswith('.zip'):\n",
    "        newfile.write(links + '\\n')\n",
    "newfile.close()\n",
    "\n",
    "#Fetching the links for the zip file and downloading the files\n",
    "with open('zipfiles.txt', 'r') as links:\n",
    "    for link in links:\n",
    "        if link:\n",
    "            filename1= link.split('/')[-1]\n",
    "            filename= filename1[:-1]\n",
    "            link = baseurl + link\n",
    "            print(filename + ' file started to download')\n",
    "            response = requests.get(link[:-1])\n",
    "\n",
    "            # Writing the zip file into local file system\n",
    "            with open(filename,'wb') as output_file:\n",
    "                output_file.write(response.content)\n",
    "            print(filename + 'file is downloaded')"
   ]
  }
 ],
 "metadata": {
  "kernelspec": {
   "display_name": "Python 3 (ipykernel)",
   "language": "python",
   "name": "python3"
  },
  "language_info": {
   "codemirror_mode": {
    "name": "ipython",
    "version": 3
   },
   "file_extension": ".py",
   "mimetype": "text/x-python",
   "name": "python",
   "nbconvert_exporter": "python",
   "pygments_lexer": "ipython3",
   "version": "3.7.13"
  },
  "varInspector": {
   "cols": {
    "lenName": 16,
    "lenType": 16,
    "lenVar": 40
   },
   "kernels_config": {
    "python": {
     "delete_cmd_postfix": "",
     "delete_cmd_prefix": "del ",
     "library": "var_list.py",
     "varRefreshCmd": "print(var_dic_list())"
    },
    "r": {
     "delete_cmd_postfix": ") ",
     "delete_cmd_prefix": "rm(",
     "library": "var_list.r",
     "varRefreshCmd": "cat(var_dic_list()) "
    }
   },
   "types_to_exclude": [
    "module",
    "function",
    "builtin_function_or_method",
    "instance",
    "_Feature"
   ],
   "window_display": false
  }
 },
 "nbformat": 4,
 "nbformat_minor": 5
}
