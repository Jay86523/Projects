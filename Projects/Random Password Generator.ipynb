{
 "cells": [
  {
   "cell_type": "code",
   "execution_count": null,
   "id": "fe8c7cc0",
   "metadata": {},
   "outputs": [],
   "source": [
    "# importing the relevant modules\n",
    "import random\n",
    "\n",
    "#All uppercase password\n",
    "\n",
    "chars = (\"abcdefghijklmnopqrstuvwxyzABCDEFGHIJKLMNOPQRSTUVWXYZ123456789!@#$%^&*\")\n",
    "while 1:\n",
    "    password_len= int(input(\"what lengthwould you like your password to be : \"))\n",
    "    password_count = int(input(\"How many password would you like: \"))\n",
    "    for x in range(0,password_count):\n",
    "        password = \"\"\n",
    "        for x in range(0,password_len):\n",
    "            password_char = random.choice(chars)\n",
    "            password  = password+password_char\n",
    "        print(\"Here is your password:\",password) "
   ]
  },
  {
   "cell_type": "code",
   "execution_count": null,
   "id": "91ba51ac",
   "metadata": {},
   "outputs": [],
   "source": []
  },
  {
   "cell_type": "code",
   "execution_count": null,
   "id": "335bfbea",
   "metadata": {},
   "outputs": [],
   "source": []
  }
 ],
 "metadata": {
  "kernelspec": {
   "display_name": "Python 3 (ipykernel)",
   "language": "python",
   "name": "python3"
  },
  "language_info": {
   "codemirror_mode": {
    "name": "ipython",
    "version": 3
   },
   "file_extension": ".py",
   "mimetype": "text/x-python",
   "name": "python",
   "nbconvert_exporter": "python",
   "pygments_lexer": "ipython3",
   "version": "3.7.13"
  },
  "varInspector": {
   "cols": {
    "lenName": 16,
    "lenType": 16,
    "lenVar": 40
   },
   "kernels_config": {
    "python": {
     "delete_cmd_postfix": "",
     "delete_cmd_prefix": "del ",
     "library": "var_list.py",
     "varRefreshCmd": "print(var_dic_list())"
    },
    "r": {
     "delete_cmd_postfix": ") ",
     "delete_cmd_prefix": "rm(",
     "library": "var_list.r",
     "varRefreshCmd": "cat(var_dic_list()) "
    }
   },
   "types_to_exclude": [
    "module",
    "function",
    "builtin_function_or_method",
    "instance",
    "_Feature"
   ],
   "window_display": false
  }
 },
 "nbformat": 4,
 "nbformat_minor": 5
}
