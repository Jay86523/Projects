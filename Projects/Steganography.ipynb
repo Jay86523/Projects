{
 "cells": [
  {
   "cell_type": "code",
   "execution_count": null,
   "id": "a964d8f4",
   "metadata": {},
   "outputs": [],
   "source": [
    "import stepic\n",
    "from PIL import Image\n",
    "#Encoding\n",
    "def Encoding():\n",
    "    original_img = Image.open(\"sky.jpg\")\n",
    "    encoded_img = stepic.encode(original_img,b\"This is Hidden message\")\n",
    "    encoded_img.save(\"new_sky.png\")\n",
    "    print(\"Sucessfully Encoded\")\n",
    "#Encoding\n",
    "print(\"hi\")\n",
    "\n",
    "# Decoding\n",
    "\n",
    "def Decoding():\n",
    "    img = Image.open(\"new_sky.png\")\n",
    "    decoded_img= stepic.deceode(img)\n",
    "    print(\"Successfully Decoded\",\"\\nDecoded Message :\",decoded_img)\n"
   ]
  }
 ],
 "metadata": {
  "kernelspec": {
   "display_name": "Python 3 (ipykernel)",
   "language": "python",
   "name": "python3"
  },
  "language_info": {
   "codemirror_mode": {
    "name": "ipython",
    "version": 3
   },
   "file_extension": ".py",
   "mimetype": "text/x-python",
   "name": "python",
   "nbconvert_exporter": "python",
   "pygments_lexer": "ipython3",
   "version": "3.7.13"
  },
  "varInspector": {
   "cols": {
    "lenName": 16,
    "lenType": 16,
    "lenVar": 40
   },
   "kernels_config": {
    "python": {
     "delete_cmd_postfix": "",
     "delete_cmd_prefix": "del ",
     "library": "var_list.py",
     "varRefreshCmd": "print(var_dic_list())"
    },
    "r": {
     "delete_cmd_postfix": ") ",
     "delete_cmd_prefix": "rm(",
     "library": "var_list.r",
     "varRefreshCmd": "cat(var_dic_list()) "
    }
   },
   "types_to_exclude": [
    "module",
    "function",
    "builtin_function_or_method",
    "instance",
    "_Feature"
   ],
   "window_display": false
  }
 },
 "nbformat": 4,
 "nbformat_minor": 5
}
